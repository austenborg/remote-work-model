{
 "cells": [
  {
   "cell_type": "code",
   "execution_count": 1,
   "metadata": {},
   "outputs": [],
   "source": [
    "# For data handling and storage\n",
    "import pandas as pd\n",
    "import numpy as np\n",
    "# This will prevent a misguided warning\n",
    "pd.options.mode.chained_assignment = None\n",
    "\n",
    "# For file import\n",
    "import json\n",
    "import os\n",
    "\n",
    "# For text formatting\n",
    "import re"
   ]
  },
  {
   "cell_type": "markdown",
   "metadata": {},
   "source": [
    "# Loading the Dataset"
   ]
  },
  {
   "cell_type": "markdown",
   "metadata": {},
   "source": [
    "Note: There are 7 .ldjson files stored in a folder located at ./data. There were two additional formatting steps taken first:\n",
    "\n",
    "*  A few of the files had formatting errors (a missing line break between entries), which were manually fixed\n",
    "*  The files were renamed to specify the date range and order"
   ]
  },
  {
   "cell_type": "code",
   "execution_count": 2,
   "metadata": {},
   "outputs": [],
   "source": [
    "# Print the file names\n",
    "files = ['1_may_july_19.ldjson',\n",
    "         '2_august_19.ldjson',\n",
    "         '3_july_sep_20.ldjson',\n",
    "         '4_oct_dec_21.ldjson',\n",
    "         '5_jan_mar_21.ldjson',\n",
    "         '6_apr_june_21.ldjson',\n",
    "         '7_july_sep_21.ldjson']"
   ]
  },
  {
   "cell_type": "markdown",
   "metadata": {},
   "source": [
    "Each line of the data file is its own dictionary, so the entire dataset can't be loaded at once with *json.loads()*, but each line can be read as its own *.json* file. "
   ]
  },
  {
   "cell_type": "code",
   "execution_count": 3,
   "metadata": {},
   "outputs": [
    {
     "name": "stdout",
     "output_type": "stream",
     "text": [
      "1_may_july_19.ldjson\n",
      "2_august_19.ldjson\n",
      "3_july_sep_20.ldjson\n",
      "4_oct_dec_21.ldjson\n",
      "5_jan_mar_21.ldjson\n",
      "6_apr_june_21.ldjson\n",
      "7_july_sep_21.ldjson\n"
     ]
    }
   ],
   "source": [
    "job_posts = []\n",
    "\n",
    "# For each file\n",
    "for file in files:\n",
    "    print(file)\n",
    "    \n",
    "    # For each line of the file, read it as a .json file\n",
    "    for line in open(\"./data/\" + file, 'r'):\n",
    "        job_posts.append(json.loads(line))"
   ]
  },
  {
   "cell_type": "code",
   "execution_count": 4,
   "metadata": {},
   "outputs": [
    {
     "name": "stdout",
     "output_type": "stream",
     "text": [
      "(149904, 58)\n"
     ]
    },
    {
     "data": {
      "text/html": [
       "<div>\n",
       "<style scoped>\n",
       "    .dataframe tbody tr th:only-of-type {\n",
       "        vertical-align: middle;\n",
       "    }\n",
       "\n",
       "    .dataframe tbody tr th {\n",
       "        vertical-align: top;\n",
       "    }\n",
       "\n",
       "    .dataframe thead th {\n",
       "        text-align: right;\n",
       "    }\n",
       "</style>\n",
       "<table border=\"1\" class=\"dataframe\">\n",
       "  <thead>\n",
       "    <tr style=\"text-align: right;\">\n",
       "      <th></th>\n",
       "      <th>uniq_id</th>\n",
       "      <th>crawl_timestamp</th>\n",
       "      <th>url</th>\n",
       "      <th>job_title</th>\n",
       "      <th>category</th>\n",
       "      <th>company_name</th>\n",
       "      <th>city</th>\n",
       "      <th>state</th>\n",
       "      <th>country</th>\n",
       "      <th>post_date</th>\n",
       "      <th>...</th>\n",
       "      <th>inferred_salary_time_unit</th>\n",
       "      <th>apply_url</th>\n",
       "      <th>test_contact_email</th>\n",
       "      <th>segment_name</th>\n",
       "      <th>job_desc_char_count</th>\n",
       "      <th>run_forced</th>\n",
       "      <th>ijp_is_production_ready</th>\n",
       "      <th>extra_fields</th>\n",
       "      <th>ijp_is_prod_ready</th>\n",
       "      <th>logo_url</th>\n",
       "    </tr>\n",
       "  </thead>\n",
       "  <tbody>\n",
       "    <tr>\n",
       "      <th>0</th>\n",
       "      <td>f1f521b137e040af77495ef053033c1d</td>\n",
       "      <td>2019-06-15 06:58:56 +0000</td>\n",
       "      <td>https://ca.indeed.com/viewjob?jk=addd6d52ad95671a</td>\n",
       "      <td>Valet Attendant</td>\n",
       "      <td>Customer-Service</td>\n",
       "      <td>Intact</td>\n",
       "      <td>Toronto</td>\n",
       "      <td>ON</td>\n",
       "      <td>CA</td>\n",
       "      <td>2019-06-18</td>\n",
       "      <td>...</td>\n",
       "      <td>NaN</td>\n",
       "      <td>NaN</td>\n",
       "      <td>NaN</td>\n",
       "      <td>NaN</td>\n",
       "      <td>NaN</td>\n",
       "      <td>NaN</td>\n",
       "      <td>NaN</td>\n",
       "      <td>NaN</td>\n",
       "      <td>NaN</td>\n",
       "      <td>NaN</td>\n",
       "    </tr>\n",
       "    <tr>\n",
       "      <th>1</th>\n",
       "      <td>6782dc813048ff8feca7c07d8279e456</td>\n",
       "      <td>2019-06-20 07:33:26 +0000</td>\n",
       "      <td>https://www.indeed.com/viewjob?jk=21a20005cda7...</td>\n",
       "      <td>Office Associate (10-15 Hours Per Week) Clovis</td>\n",
       "      <td>Administrative</td>\n",
       "      <td>Transform SR LLC</td>\n",
       "      <td>Clovis</td>\n",
       "      <td>CA 93612</td>\n",
       "      <td>US</td>\n",
       "      <td>2019-06-20</td>\n",
       "      <td>...</td>\n",
       "      <td>NaN</td>\n",
       "      <td>NaN</td>\n",
       "      <td>NaN</td>\n",
       "      <td>NaN</td>\n",
       "      <td>NaN</td>\n",
       "      <td>NaN</td>\n",
       "      <td>NaN</td>\n",
       "      <td>NaN</td>\n",
       "      <td>NaN</td>\n",
       "      <td>NaN</td>\n",
       "    </tr>\n",
       "    <tr>\n",
       "      <th>2</th>\n",
       "      <td>8d5d487901c993190fdf129902b7cc0e</td>\n",
       "      <td>2019-05-25 08:15:32 +0000</td>\n",
       "      <td>https://www.indeed.com/viewjob?jk=3c49ca6367e2...</td>\n",
       "      <td>Line Cook</td>\n",
       "      <td>Restaurant/Food+Service</td>\n",
       "      <td>Saltgrass Parker (Denver)</td>\n",
       "      <td>Parker</td>\n",
       "      <td>CO</td>\n",
       "      <td>Usa</td>\n",
       "      <td>2019-05-25</td>\n",
       "      <td>...</td>\n",
       "      <td>NaN</td>\n",
       "      <td>NaN</td>\n",
       "      <td>NaN</td>\n",
       "      <td>NaN</td>\n",
       "      <td>NaN</td>\n",
       "      <td>NaN</td>\n",
       "      <td>NaN</td>\n",
       "      <td>NaN</td>\n",
       "      <td>NaN</td>\n",
       "      <td>NaN</td>\n",
       "    </tr>\n",
       "    <tr>\n",
       "      <th>3</th>\n",
       "      <td>26d36e31ed78556dc241cb418f672afc</td>\n",
       "      <td>2019-05-19 08:51:04 +0000</td>\n",
       "      <td>https://www.indeed.com/viewjob?jk=28ca41c90fa1...</td>\n",
       "      <td>Solar Installer</td>\n",
       "      <td>Construction/Facilities</td>\n",
       "      <td>Chico Electric</td>\n",
       "      <td>Chico</td>\n",
       "      <td>CA 95973</td>\n",
       "      <td>Usa</td>\n",
       "      <td>2019-05-18</td>\n",
       "      <td>...</td>\n",
       "      <td>NaN</td>\n",
       "      <td>NaN</td>\n",
       "      <td>NaN</td>\n",
       "      <td>NaN</td>\n",
       "      <td>NaN</td>\n",
       "      <td>NaN</td>\n",
       "      <td>NaN</td>\n",
       "      <td>NaN</td>\n",
       "      <td>NaN</td>\n",
       "      <td>NaN</td>\n",
       "    </tr>\n",
       "    <tr>\n",
       "      <th>4</th>\n",
       "      <td>8cca34bf3a41246d4e7ee76d4cbeede8</td>\n",
       "      <td>2019-05-24 08:28:23 +0000</td>\n",
       "      <td>https://www.indeed.com/viewjob?jk=6bee5df180fd...</td>\n",
       "      <td>Claims Administrator</td>\n",
       "      <td>Insurance</td>\n",
       "      <td>Brink's Incorporated</td>\n",
       "      <td>Coppell</td>\n",
       "      <td>TX 75019</td>\n",
       "      <td>Usa</td>\n",
       "      <td>2019-05-24</td>\n",
       "      <td>...</td>\n",
       "      <td>NaN</td>\n",
       "      <td>NaN</td>\n",
       "      <td>NaN</td>\n",
       "      <td>NaN</td>\n",
       "      <td>NaN</td>\n",
       "      <td>NaN</td>\n",
       "      <td>NaN</td>\n",
       "      <td>NaN</td>\n",
       "      <td>NaN</td>\n",
       "      <td>NaN</td>\n",
       "    </tr>\n",
       "  </tbody>\n",
       "</table>\n",
       "<p>5 rows × 58 columns</p>\n",
       "</div>"
      ],
      "text/plain": [
       "                            uniq_id            crawl_timestamp  \\\n",
       "0  f1f521b137e040af77495ef053033c1d  2019-06-15 06:58:56 +0000   \n",
       "1  6782dc813048ff8feca7c07d8279e456  2019-06-20 07:33:26 +0000   \n",
       "2  8d5d487901c993190fdf129902b7cc0e  2019-05-25 08:15:32 +0000   \n",
       "3  26d36e31ed78556dc241cb418f672afc  2019-05-19 08:51:04 +0000   \n",
       "4  8cca34bf3a41246d4e7ee76d4cbeede8  2019-05-24 08:28:23 +0000   \n",
       "\n",
       "                                                 url  \\\n",
       "0  https://ca.indeed.com/viewjob?jk=addd6d52ad95671a   \n",
       "1  https://www.indeed.com/viewjob?jk=21a20005cda7...   \n",
       "2  https://www.indeed.com/viewjob?jk=3c49ca6367e2...   \n",
       "3  https://www.indeed.com/viewjob?jk=28ca41c90fa1...   \n",
       "4  https://www.indeed.com/viewjob?jk=6bee5df180fd...   \n",
       "\n",
       "                                        job_title                 category  \\\n",
       "0                                 Valet Attendant         Customer-Service   \n",
       "1  Office Associate (10-15 Hours Per Week) Clovis           Administrative   \n",
       "2                                       Line Cook  Restaurant/Food+Service   \n",
       "3                                 Solar Installer  Construction/Facilities   \n",
       "4                            Claims Administrator                Insurance   \n",
       "\n",
       "                company_name     city     state country   post_date  ...  \\\n",
       "0                     Intact  Toronto        ON      CA  2019-06-18  ...   \n",
       "1           Transform SR LLC   Clovis  CA 93612      US  2019-06-20  ...   \n",
       "2  Saltgrass Parker (Denver)   Parker        CO     Usa  2019-05-25  ...   \n",
       "3             Chico Electric    Chico  CA 95973     Usa  2019-05-18  ...   \n",
       "4       Brink's Incorporated  Coppell  TX 75019     Usa  2019-05-24  ...   \n",
       "\n",
       "  inferred_salary_time_unit apply_url test_contact_email segment_name  \\\n",
       "0                       NaN       NaN                NaN          NaN   \n",
       "1                       NaN       NaN                NaN          NaN   \n",
       "2                       NaN       NaN                NaN          NaN   \n",
       "3                       NaN       NaN                NaN          NaN   \n",
       "4                       NaN       NaN                NaN          NaN   \n",
       "\n",
       "  job_desc_char_count  run_forced ijp_is_production_ready extra_fields  \\\n",
       "0                 NaN         NaN                     NaN          NaN   \n",
       "1                 NaN         NaN                     NaN          NaN   \n",
       "2                 NaN         NaN                     NaN          NaN   \n",
       "3                 NaN         NaN                     NaN          NaN   \n",
       "4                 NaN         NaN                     NaN          NaN   \n",
       "\n",
       "  ijp_is_prod_ready logo_url  \n",
       "0               NaN      NaN  \n",
       "1               NaN      NaN  \n",
       "2               NaN      NaN  \n",
       "3               NaN      NaN  \n",
       "4               NaN      NaN  \n",
       "\n",
       "[5 rows x 58 columns]"
      ]
     },
     "execution_count": 4,
     "metadata": {},
     "output_type": "execute_result"
    }
   ],
   "source": [
    "# Make it a Pandas dataframe\n",
    "job_post_df = pd.DataFrame(job_posts)\n",
    "\n",
    "# 149,904 job entries and 58 variables\n",
    "print(job_post_df.shape)\n",
    "\n",
    "# First 5 entries\n",
    "job_post_df.head()"
   ]
  },
  {
   "cell_type": "code",
   "execution_count": 5,
   "metadata": {},
   "outputs": [],
   "source": [
    "#job_post_df.to_pickle(\"./data/full_job_post_df.pkl\")"
   ]
  },
  {
   "cell_type": "markdown",
   "metadata": {},
   "source": [
    "# Remote Job Status"
   ]
  },
  {
   "cell_type": "code",
   "execution_count": 6,
   "metadata": {},
   "outputs": [
    {
     "name": "stdout",
     "output_type": "stream",
     "text": [
      "(30060, 58)\n"
     ]
    }
   ],
   "source": [
    "print(job_post_df[job_post_df['is_remote'].isna()].shape)"
   ]
  },
  {
   "cell_type": "markdown",
   "metadata": {},
   "source": [
    "It turns out the first 3 datasets don't have an is_remote value, so those 30,060 entries will be removed. The dataset of jobs with an is_remote value has 119,844 entries."
   ]
  },
  {
   "cell_type": "code",
   "execution_count": 7,
   "metadata": {},
   "outputs": [
    {
     "name": "stdout",
     "output_type": "stream",
     "text": [
      "(119844, 58)\n"
     ]
    },
    {
     "data": {
      "text/html": [
       "<div>\n",
       "<style scoped>\n",
       "    .dataframe tbody tr th:only-of-type {\n",
       "        vertical-align: middle;\n",
       "    }\n",
       "\n",
       "    .dataframe tbody tr th {\n",
       "        vertical-align: top;\n",
       "    }\n",
       "\n",
       "    .dataframe thead th {\n",
       "        text-align: right;\n",
       "    }\n",
       "</style>\n",
       "<table border=\"1\" class=\"dataframe\">\n",
       "  <thead>\n",
       "    <tr style=\"text-align: right;\">\n",
       "      <th></th>\n",
       "      <th>uniq_id</th>\n",
       "      <th>crawl_timestamp</th>\n",
       "      <th>url</th>\n",
       "      <th>job_title</th>\n",
       "      <th>category</th>\n",
       "      <th>company_name</th>\n",
       "      <th>city</th>\n",
       "      <th>state</th>\n",
       "      <th>country</th>\n",
       "      <th>post_date</th>\n",
       "      <th>...</th>\n",
       "      <th>inferred_salary_time_unit</th>\n",
       "      <th>apply_url</th>\n",
       "      <th>test_contact_email</th>\n",
       "      <th>segment_name</th>\n",
       "      <th>job_desc_char_count</th>\n",
       "      <th>run_forced</th>\n",
       "      <th>ijp_is_production_ready</th>\n",
       "      <th>extra_fields</th>\n",
       "      <th>ijp_is_prod_ready</th>\n",
       "      <th>logo_url</th>\n",
       "    </tr>\n",
       "  </thead>\n",
       "  <tbody>\n",
       "    <tr>\n",
       "      <th>0</th>\n",
       "      <td>19fdcca8fe64fd62515e8e07d98290e4</td>\n",
       "      <td>2020-11-10 22:36:39 +0000</td>\n",
       "      <td>https://www.indeed.com/viewjob?jk=1db200d5d41a...</td>\n",
       "      <td>Material Handler</td>\n",
       "      <td>Transportation-or-logistics</td>\n",
       "      <td>Axium Plastics</td>\n",
       "      <td>Ontario</td>\n",
       "      <td>CA</td>\n",
       "      <td>US</td>\n",
       "      <td>2020-11-10</td>\n",
       "      <td>...</td>\n",
       "      <td>NaN</td>\n",
       "      <td>NaN</td>\n",
       "      <td>NaN</td>\n",
       "      <td>NaN</td>\n",
       "      <td>NaN</td>\n",
       "      <td>NaN</td>\n",
       "      <td>NaN</td>\n",
       "      <td>NaN</td>\n",
       "      <td>NaN</td>\n",
       "      <td>NaN</td>\n",
       "    </tr>\n",
       "    <tr>\n",
       "      <th>1</th>\n",
       "      <td>c9b16a4a7b1fe7bbf1cbf25dcc2f4031</td>\n",
       "      <td>2020-11-11 09:41:39 +0000</td>\n",
       "      <td>https://www.indeed.com/viewjob?jk=208982b29f90...</td>\n",
       "      <td>Full Time HHA/CNA/PCA Position</td>\n",
       "      <td>Healthcare</td>\n",
       "      <td>Right at Home of the Triangle</td>\n",
       "      <td>Raleigh</td>\n",
       "      <td>NC</td>\n",
       "      <td>US</td>\n",
       "      <td>2020-11-11</td>\n",
       "      <td>...</td>\n",
       "      <td>NaN</td>\n",
       "      <td>NaN</td>\n",
       "      <td>NaN</td>\n",
       "      <td>NaN</td>\n",
       "      <td>NaN</td>\n",
       "      <td>NaN</td>\n",
       "      <td>NaN</td>\n",
       "      <td>NaN</td>\n",
       "      <td>NaN</td>\n",
       "      <td>NaN</td>\n",
       "    </tr>\n",
       "    <tr>\n",
       "      <th>2</th>\n",
       "      <td>082627b3ebd5ececaeef450318769d72</td>\n",
       "      <td>2020-10-17 14:52:34 +0000</td>\n",
       "      <td>https://www.indeed.com/viewjob?jk=2bd33ce4b684...</td>\n",
       "      <td>Senior Retail Supervisor</td>\n",
       "      <td>Retail</td>\n",
       "      <td>Goodwill Industries Of Delaware &amp; D</td>\n",
       "      <td>Holmes</td>\n",
       "      <td>PA</td>\n",
       "      <td>US</td>\n",
       "      <td>2020-10-17</td>\n",
       "      <td>...</td>\n",
       "      <td>NaN</td>\n",
       "      <td>NaN</td>\n",
       "      <td>NaN</td>\n",
       "      <td>NaN</td>\n",
       "      <td>NaN</td>\n",
       "      <td>NaN</td>\n",
       "      <td>NaN</td>\n",
       "      <td>NaN</td>\n",
       "      <td>NaN</td>\n",
       "      <td>NaN</td>\n",
       "    </tr>\n",
       "    <tr>\n",
       "      <th>3</th>\n",
       "      <td>89141ac20e755763933dffa93ef6abc5</td>\n",
       "      <td>2020-11-30 07:18:25 +0000</td>\n",
       "      <td>https://www.indeed.com/viewjob?jk=b8d4b53c0647...</td>\n",
       "      <td>Medical Biller / Collector (Wilmington)</td>\n",
       "      <td>Administrative</td>\n",
       "      <td>Carolina Dunes Behavioral Health</td>\n",
       "      <td>Wilmington</td>\n",
       "      <td>NC</td>\n",
       "      <td>US</td>\n",
       "      <td>2020-11-30</td>\n",
       "      <td>...</td>\n",
       "      <td>hourly</td>\n",
       "      <td>NaN</td>\n",
       "      <td>NaN</td>\n",
       "      <td>NaN</td>\n",
       "      <td>NaN</td>\n",
       "      <td>NaN</td>\n",
       "      <td>NaN</td>\n",
       "      <td>NaN</td>\n",
       "      <td>NaN</td>\n",
       "      <td>NaN</td>\n",
       "    </tr>\n",
       "    <tr>\n",
       "      <th>4</th>\n",
       "      <td>62206e5ae69b88bcb0c4f22f3da39dae</td>\n",
       "      <td>2020-11-04 17:58:54 +0000</td>\n",
       "      <td>https://www.indeed.com/viewjob?jk=5b5e21af1923...</td>\n",
       "      <td>Outside Sales Professional</td>\n",
       "      <td>Sales</td>\n",
       "      <td>Terminix</td>\n",
       "      <td>Auburn</td>\n",
       "      <td>AL</td>\n",
       "      <td>US</td>\n",
       "      <td>2020-11-04</td>\n",
       "      <td>...</td>\n",
       "      <td>NaN</td>\n",
       "      <td>https://servicemaster.wd1.myworkdayjobs.com/en...</td>\n",
       "      <td>NaN</td>\n",
       "      <td>NaN</td>\n",
       "      <td>NaN</td>\n",
       "      <td>NaN</td>\n",
       "      <td>NaN</td>\n",
       "      <td>NaN</td>\n",
       "      <td>NaN</td>\n",
       "      <td>NaN</td>\n",
       "    </tr>\n",
       "  </tbody>\n",
       "</table>\n",
       "<p>5 rows × 58 columns</p>\n",
       "</div>"
      ],
      "text/plain": [
       "                            uniq_id            crawl_timestamp  \\\n",
       "0  19fdcca8fe64fd62515e8e07d98290e4  2020-11-10 22:36:39 +0000   \n",
       "1  c9b16a4a7b1fe7bbf1cbf25dcc2f4031  2020-11-11 09:41:39 +0000   \n",
       "2  082627b3ebd5ececaeef450318769d72  2020-10-17 14:52:34 +0000   \n",
       "3  89141ac20e755763933dffa93ef6abc5  2020-11-30 07:18:25 +0000   \n",
       "4  62206e5ae69b88bcb0c4f22f3da39dae  2020-11-04 17:58:54 +0000   \n",
       "\n",
       "                                                 url  \\\n",
       "0  https://www.indeed.com/viewjob?jk=1db200d5d41a...   \n",
       "1  https://www.indeed.com/viewjob?jk=208982b29f90...   \n",
       "2  https://www.indeed.com/viewjob?jk=2bd33ce4b684...   \n",
       "3  https://www.indeed.com/viewjob?jk=b8d4b53c0647...   \n",
       "4  https://www.indeed.com/viewjob?jk=5b5e21af1923...   \n",
       "\n",
       "                                 job_title                     category  \\\n",
       "0                         Material Handler  Transportation-or-logistics   \n",
       "1           Full Time HHA/CNA/PCA Position                   Healthcare   \n",
       "2                 Senior Retail Supervisor                       Retail   \n",
       "3  Medical Biller / Collector (Wilmington)               Administrative   \n",
       "4               Outside Sales Professional                        Sales   \n",
       "\n",
       "                          company_name        city state country   post_date  \\\n",
       "0                       Axium Plastics     Ontario    CA      US  2020-11-10   \n",
       "1        Right at Home of the Triangle     Raleigh    NC      US  2020-11-11   \n",
       "2  Goodwill Industries Of Delaware & D      Holmes    PA      US  2020-10-17   \n",
       "3     Carolina Dunes Behavioral Health  Wilmington    NC      US  2020-11-30   \n",
       "4                             Terminix      Auburn    AL      US  2020-11-04   \n",
       "\n",
       "   ... inferred_salary_time_unit  \\\n",
       "0  ...                       NaN   \n",
       "1  ...                       NaN   \n",
       "2  ...                       NaN   \n",
       "3  ...                    hourly   \n",
       "4  ...                       NaN   \n",
       "\n",
       "                                           apply_url test_contact_email  \\\n",
       "0                                                NaN                NaN   \n",
       "1                                                NaN                NaN   \n",
       "2                                                NaN                NaN   \n",
       "3                                                NaN                NaN   \n",
       "4  https://servicemaster.wd1.myworkdayjobs.com/en...                NaN   \n",
       "\n",
       "  segment_name job_desc_char_count  run_forced ijp_is_production_ready  \\\n",
       "0          NaN                 NaN         NaN                     NaN   \n",
       "1          NaN                 NaN         NaN                     NaN   \n",
       "2          NaN                 NaN         NaN                     NaN   \n",
       "3          NaN                 NaN         NaN                     NaN   \n",
       "4          NaN                 NaN         NaN                     NaN   \n",
       "\n",
       "  extra_fields ijp_is_prod_ready logo_url  \n",
       "0          NaN               NaN      NaN  \n",
       "1          NaN               NaN      NaN  \n",
       "2          NaN               NaN      NaN  \n",
       "3          NaN               NaN      NaN  \n",
       "4          NaN               NaN      NaN  \n",
       "\n",
       "[5 rows x 58 columns]"
      ]
     },
     "execution_count": 7,
     "metadata": {},
     "output_type": "execute_result"
    }
   ],
   "source": [
    "# Subset entries that do *not* have an NA value for is_remote\n",
    "remote_post_df = job_post_df[-job_post_df['is_remote'].isna()]\n",
    "\n",
    "# Since some entries were removed, the indices need to be reset\n",
    "remote_post_df = remote_post_df.reset_index(drop = True)\n",
    "\n",
    "print(remote_post_df.shape)\n",
    "remote_post_df.head()"
   ]
  },
  {
   "cell_type": "code",
   "execution_count": 8,
   "metadata": {},
   "outputs": [
    {
     "data": {
      "text/plain": [
       "false    113904\n",
       "true       5940\n",
       "Name: is_remote, dtype: int64"
      ]
     },
     "execution_count": 8,
     "metadata": {},
     "output_type": "execute_result"
    }
   ],
   "source": [
    "# For categorical variables, prints the number of rows in each category\n",
    "remote_post_df['is_remote'].value_counts()"
   ]
  },
  {
   "cell_type": "markdown",
   "metadata": {},
   "source": [
    "The dataframe has 113,904 non-remote entries and 5,940 remote ones. This difference is a little concerning for prediction purposes."
   ]
  },
  {
   "cell_type": "code",
   "execution_count": 9,
   "metadata": {},
   "outputs": [],
   "source": [
    "remote_post_df.to_pickle(\"./data/remote_job_post_df.pkl\")"
   ]
  },
  {
   "cell_type": "markdown",
   "metadata": {},
   "source": [
    "# Preparing the \"State\" column"
   ]
  },
  {
   "cell_type": "markdown",
   "metadata": {},
   "source": [
    "The dataframe has *state*, *test1_states*, and *inferred_state* values. The *inferred_state* column seems to have been edited by the data collectors, removing strangely formatted values and adding the *state* when it is accidentally in the *city* column.\n",
    "\n",
    "The only downside is that remote jobs are listed as NA, so for the purposes of this analysis we will add a \"remote\" value to *inferred_state*. "
   ]
  },
  {
   "cell_type": "code",
   "execution_count": 10,
   "metadata": {},
   "outputs": [],
   "source": [
    "no_state = remote_post_df.loc[remote_post_df['state'].isna(), [\"city\", \"state\", \"test1_states\", \"inferred_state\"]]"
   ]
  },
  {
   "cell_type": "code",
   "execution_count": 11,
   "metadata": {},
   "outputs": [],
   "source": [
    "# For each entry with an NA value for state\n",
    "for index in no_state.index:\n",
    "    \n",
    "    # If the city or state is listed as \"Remote\", change the value in the original dataframe\n",
    "    if no_state.at[index, \"city\"] == \"Remote\":\n",
    "        remote_post_df.at[index, \"inferred_state\"] = \"Remote\"\n",
    "    elif no_state.loc[index, \"state\"] == \"Remote\":\n",
    "        remote_post_df.at[index, \"inferred_state\"] = \"Remote\""
   ]
  },
  {
   "cell_type": "code",
   "execution_count": 12,
   "metadata": {},
   "outputs": [],
   "source": [
    "# There are NaN values and \"\" (empty) values\n",
    "# To make all empty values uniform, NaN values will be set to \"\"\n",
    "remote_post_df.loc[remote_post_df['inferred_state'].isna(), \"inferred_state\"] = \"\""
   ]
  },
  {
   "cell_type": "code",
   "execution_count": 13,
   "metadata": {},
   "outputs": [
    {
     "data": {
      "text/plain": [
       "array(['California', 'North carolina', 'Pennsylvania', 'Alabama', '',\n",
       "       'Florida', 'New york', 'Louisiana', 'Ohio', 'Colorado',\n",
       "       'New jersey', 'Illinois', 'Texas', 'Arizona', 'Wisconsin',\n",
       "       'Kansas', 'Michigan', 'Nevada', 'Minnesota', 'Kentucky',\n",
       "       'Tennessee', 'Oklahoma', 'Indiana', 'Washington', 'Virginia',\n",
       "       'New mexico', 'Maine', 'Iowa', 'Connecticut', 'Idaho',\n",
       "       'West virginia', 'Oregon', 'Alaska', 'Massachusetts',\n",
       "       'New hampshire', 'Maryland', 'Missouri', 'Arkansas', 'Georgia',\n",
       "       'Utah', 'Nebraska', 'District of columbia', 'Delaware',\n",
       "       'Rhode island', 'Mississippi', 'South dakota', 'Montana',\n",
       "       'North dakota', 'South carolina', 'Hawaii', 'Vermont', 'Remote',\n",
       "       'Wyoming'], dtype=object)"
      ]
     },
     "execution_count": 13,
     "metadata": {},
     "output_type": "execute_result"
    }
   ],
   "source": [
    "remote_post_df['inferred_state'].unique()"
   ]
  },
  {
   "cell_type": "markdown",
   "metadata": {},
   "source": [
    "In the end, there are 50 states + DC, Remote, and NA values"
   ]
  },
  {
   "cell_type": "markdown",
   "metadata": {},
   "source": [
    "# Preparing the \"Category\" column"
   ]
  },
  {
   "cell_type": "markdown",
   "metadata": {},
   "source": [
    "One way to look at the type of job is the \"category\" feature. "
   ]
  },
  {
   "cell_type": "markdown",
   "metadata": {},
   "source": [
    "### Re-formatting \"category\""
   ]
  },
  {
   "cell_type": "markdown",
   "metadata": {},
   "source": [
    "It turns out that for some inexplicable reason, job categories are recorded in two different formats, for example *Computer-or-internet* and *Computer/internet*. This step standardizes the way they are written by just separating all words with a space."
   ]
  },
  {
   "cell_type": "code",
   "execution_count": 14,
   "metadata": {},
   "outputs": [
    {
     "name": "stdout",
     "output_type": "stream",
     "text": [
      "45\n"
     ]
    }
   ],
   "source": [
    "# Starts off with 45 categories\n",
    "print(len(remote_post_df['category'].unique()))"
   ]
  },
  {
   "cell_type": "code",
   "execution_count": 15,
   "metadata": {},
   "outputs": [],
   "source": [
    "# Will use a dictionary to match category names to a generic form\n",
    "job_dict = {}\n",
    "\n",
    "# For each job type\n",
    "for job_type in remote_post_df['category'].unique():\n",
    "    \n",
    "    # Split words on anything that isn't a letter (so / or -)\n",
    "    split = re.split(r'\\W', job_type)\n",
    "    \n",
    "    # Removing the word \"or\"\n",
    "    split = [word for word in split if word != \"or\"]\n",
    "    \n",
    "    # Combine all the words left in the list into a string, separated only by spaces\n",
    "    new = \" \".join(split)\n",
    "    \n",
    "    # Assign old job label as key, and new uniform job label as value\n",
    "    job_dict[job_type] = new"
   ]
  },
  {
   "cell_type": "code",
   "execution_count": 16,
   "metadata": {},
   "outputs": [
    {
     "name": "stdout",
     "output_type": "stream",
     "text": [
      "Input: Computer-or-internet\n",
      "Output: Computer internet\n",
      "\n",
      "Input: Computer/internet\n",
      "Output: Computer internet\n"
     ]
    }
   ],
   "source": [
    "print(\"Input: Computer-or-internet\")\n",
    "print(\"Output: \" + job_dict[\"Computer-or-internet\"])\n",
    "\n",
    "print(\"\")\n",
    "\n",
    "print(\"Input: Computer/internet\")\n",
    "print(\"Output: \" + job_dict[\"Computer/internet\"])"
   ]
  },
  {
   "cell_type": "code",
   "execution_count": 17,
   "metadata": {},
   "outputs": [],
   "source": [
    "# Apply this dictionary to the entire category column\n",
    "remote_post_df['category'] = remote_post_df['category'].apply(lambda x: job_dict[x])"
   ]
  },
  {
   "cell_type": "code",
   "execution_count": 18,
   "metadata": {},
   "outputs": [
    {
     "name": "stdout",
     "output_type": "stream",
     "text": [
      "27\n"
     ]
    }
   ],
   "source": [
    "# Only 27 different categories now\n",
    "print(len(remote_post_df['category'].unique()))"
   ]
  },
  {
   "cell_type": "markdown",
   "metadata": {},
   "source": [
    "### Making dummy variables"
   ]
  },
  {
   "cell_type": "markdown",
   "metadata": {},
   "source": [
    "An exhaustive best subset selection run in R indicated these 17 categories were the most useful predictors, so (like in a one vs. all analysis), I will make 17 columns, each one indicating if the job category is (1) or is not (0) in a specific category. "
   ]
  },
  {
   "cell_type": "code",
   "execution_count": 19,
   "metadata": {},
   "outputs": [
    {
     "name": "stdout",
     "output_type": "stream",
     "text": [
      "['categoryAdministrative', 'categoryArts entertainment publishing', 'categoryComputer internet']\n"
     ]
    }
   ],
   "source": [
    "categories_orig = [\"categoryAdministrative\", \"categoryArts entertainment publishing\", \"categoryComputer internet\", \"categoryConstruction facilities\", \"categoryEducation training\", \"categoryEngineering architecture\", \"categoryHealthcare\", \"categoryHospitality travel\", \"categoryLaw Enforcement security\", \"categoryLegal\", \"categoryManufacturing mechanical\", \"categoryMarketing advertising pr\", \"categoryPharmaceutical bio tech\", \"categoryReal Estate\", \"categoryRestaurant food Service\", \"categoryRetail\", \"categoryTransportation logistics\"]\n",
    "\n",
    "# This what the categories look like formatted from R\n",
    "print(categories_orig[0:3])"
   ]
  },
  {
   "cell_type": "code",
   "execution_count": 20,
   "metadata": {},
   "outputs": [
    {
     "name": "stdout",
     "output_type": "stream",
     "text": [
      "Reformatting process: \n",
      "\n",
      "Arts entertainment publishing\n",
      "['arts', 'entertainment', 'publishing']\n",
      "arts_entertainment_publishing\n",
      "is_arts_entertainment_publishing\n"
     ]
    }
   ],
   "source": [
    "# This entire code block reformats the category names again to be column names\n",
    "# This part came well after the first re-formatting in the process\n",
    "# It wasn't just reformatted twice for fun\n",
    "\n",
    "print(\"Reformatting process: \\n\")\n",
    "\n",
    "categories_orig = [word[8:] for word in categories_orig]\n",
    "print(categories_orig[1])\n",
    "\n",
    "categories = [word.lower().split() for word in categories_orig]\n",
    "print(categories[1])\n",
    "\n",
    "categories = [\"_\".join(word) for word in categories]\n",
    "print(categories[1])\n",
    "\n",
    "categories = [\"is_\" + word for word in categories]\n",
    "print(categories[1])"
   ]
  },
  {
   "cell_type": "code",
   "execution_count": 21,
   "metadata": {},
   "outputs": [
    {
     "data": {
      "text/html": [
       "<div>\n",
       "<style scoped>\n",
       "    .dataframe tbody tr th:only-of-type {\n",
       "        vertical-align: middle;\n",
       "    }\n",
       "\n",
       "    .dataframe tbody tr th {\n",
       "        vertical-align: top;\n",
       "    }\n",
       "\n",
       "    .dataframe thead th {\n",
       "        text-align: right;\n",
       "    }\n",
       "</style>\n",
       "<table border=\"1\" class=\"dataframe\">\n",
       "  <thead>\n",
       "    <tr style=\"text-align: right;\">\n",
       "      <th></th>\n",
       "      <th>uniq_id</th>\n",
       "      <th>is_remote</th>\n",
       "      <th>post_date</th>\n",
       "      <th>category</th>\n",
       "      <th>inferred_state</th>\n",
       "      <th>is_administrative</th>\n",
       "      <th>is_arts_entertainment_publishing</th>\n",
       "      <th>is_computer_internet</th>\n",
       "      <th>is_construction_facilities</th>\n",
       "      <th>is_education_training</th>\n",
       "      <th>...</th>\n",
       "      <th>is_hospitality_travel</th>\n",
       "      <th>is_law_enforcement_security</th>\n",
       "      <th>is_legal</th>\n",
       "      <th>is_manufacturing_mechanical</th>\n",
       "      <th>is_marketing_advertising_pr</th>\n",
       "      <th>is_pharmaceutical_bio_tech</th>\n",
       "      <th>is_real_estate</th>\n",
       "      <th>is_restaurant_food_service</th>\n",
       "      <th>is_retail</th>\n",
       "      <th>is_transportation_logistics</th>\n",
       "    </tr>\n",
       "  </thead>\n",
       "  <tbody>\n",
       "    <tr>\n",
       "      <th>0</th>\n",
       "      <td>19fdcca8fe64fd62515e8e07d98290e4</td>\n",
       "      <td>false</td>\n",
       "      <td>2020-11-10</td>\n",
       "      <td>Transportation logistics</td>\n",
       "      <td>California</td>\n",
       "      <td>0</td>\n",
       "      <td>0</td>\n",
       "      <td>0</td>\n",
       "      <td>0</td>\n",
       "      <td>0</td>\n",
       "      <td>...</td>\n",
       "      <td>0</td>\n",
       "      <td>0</td>\n",
       "      <td>0</td>\n",
       "      <td>0</td>\n",
       "      <td>0</td>\n",
       "      <td>0</td>\n",
       "      <td>0</td>\n",
       "      <td>0</td>\n",
       "      <td>0</td>\n",
       "      <td>1</td>\n",
       "    </tr>\n",
       "    <tr>\n",
       "      <th>1</th>\n",
       "      <td>c9b16a4a7b1fe7bbf1cbf25dcc2f4031</td>\n",
       "      <td>false</td>\n",
       "      <td>2020-11-11</td>\n",
       "      <td>Healthcare</td>\n",
       "      <td>North carolina</td>\n",
       "      <td>0</td>\n",
       "      <td>0</td>\n",
       "      <td>0</td>\n",
       "      <td>0</td>\n",
       "      <td>0</td>\n",
       "      <td>...</td>\n",
       "      <td>0</td>\n",
       "      <td>0</td>\n",
       "      <td>0</td>\n",
       "      <td>0</td>\n",
       "      <td>0</td>\n",
       "      <td>0</td>\n",
       "      <td>0</td>\n",
       "      <td>0</td>\n",
       "      <td>0</td>\n",
       "      <td>0</td>\n",
       "    </tr>\n",
       "    <tr>\n",
       "      <th>2</th>\n",
       "      <td>082627b3ebd5ececaeef450318769d72</td>\n",
       "      <td>false</td>\n",
       "      <td>2020-10-17</td>\n",
       "      <td>Retail</td>\n",
       "      <td>Pennsylvania</td>\n",
       "      <td>0</td>\n",
       "      <td>0</td>\n",
       "      <td>0</td>\n",
       "      <td>0</td>\n",
       "      <td>0</td>\n",
       "      <td>...</td>\n",
       "      <td>0</td>\n",
       "      <td>0</td>\n",
       "      <td>0</td>\n",
       "      <td>0</td>\n",
       "      <td>0</td>\n",
       "      <td>0</td>\n",
       "      <td>0</td>\n",
       "      <td>0</td>\n",
       "      <td>1</td>\n",
       "      <td>0</td>\n",
       "    </tr>\n",
       "    <tr>\n",
       "      <th>3</th>\n",
       "      <td>89141ac20e755763933dffa93ef6abc5</td>\n",
       "      <td>false</td>\n",
       "      <td>2020-11-30</td>\n",
       "      <td>Administrative</td>\n",
       "      <td>North carolina</td>\n",
       "      <td>1</td>\n",
       "      <td>0</td>\n",
       "      <td>0</td>\n",
       "      <td>0</td>\n",
       "      <td>0</td>\n",
       "      <td>...</td>\n",
       "      <td>0</td>\n",
       "      <td>0</td>\n",
       "      <td>0</td>\n",
       "      <td>0</td>\n",
       "      <td>0</td>\n",
       "      <td>0</td>\n",
       "      <td>0</td>\n",
       "      <td>0</td>\n",
       "      <td>0</td>\n",
       "      <td>0</td>\n",
       "    </tr>\n",
       "    <tr>\n",
       "      <th>4</th>\n",
       "      <td>62206e5ae69b88bcb0c4f22f3da39dae</td>\n",
       "      <td>false</td>\n",
       "      <td>2020-11-04</td>\n",
       "      <td>Sales</td>\n",
       "      <td>Alabama</td>\n",
       "      <td>0</td>\n",
       "      <td>0</td>\n",
       "      <td>0</td>\n",
       "      <td>0</td>\n",
       "      <td>0</td>\n",
       "      <td>...</td>\n",
       "      <td>0</td>\n",
       "      <td>0</td>\n",
       "      <td>0</td>\n",
       "      <td>0</td>\n",
       "      <td>0</td>\n",
       "      <td>0</td>\n",
       "      <td>0</td>\n",
       "      <td>0</td>\n",
       "      <td>0</td>\n",
       "      <td>0</td>\n",
       "    </tr>\n",
       "  </tbody>\n",
       "</table>\n",
       "<p>5 rows × 22 columns</p>\n",
       "</div>"
      ],
      "text/plain": [
       "                            uniq_id is_remote   post_date  \\\n",
       "0  19fdcca8fe64fd62515e8e07d98290e4     false  2020-11-10   \n",
       "1  c9b16a4a7b1fe7bbf1cbf25dcc2f4031     false  2020-11-11   \n",
       "2  082627b3ebd5ececaeef450318769d72     false  2020-10-17   \n",
       "3  89141ac20e755763933dffa93ef6abc5     false  2020-11-30   \n",
       "4  62206e5ae69b88bcb0c4f22f3da39dae     false  2020-11-04   \n",
       "\n",
       "                   category  inferred_state  is_administrative  \\\n",
       "0  Transportation logistics      California                  0   \n",
       "1                Healthcare  North carolina                  0   \n",
       "2                    Retail    Pennsylvania                  0   \n",
       "3            Administrative  North carolina                  1   \n",
       "4                     Sales         Alabama                  0   \n",
       "\n",
       "   is_arts_entertainment_publishing  is_computer_internet  \\\n",
       "0                                 0                     0   \n",
       "1                                 0                     0   \n",
       "2                                 0                     0   \n",
       "3                                 0                     0   \n",
       "4                                 0                     0   \n",
       "\n",
       "   is_construction_facilities  is_education_training  ...  \\\n",
       "0                           0                      0  ...   \n",
       "1                           0                      0  ...   \n",
       "2                           0                      0  ...   \n",
       "3                           0                      0  ...   \n",
       "4                           0                      0  ...   \n",
       "\n",
       "   is_hospitality_travel  is_law_enforcement_security  is_legal  \\\n",
       "0                      0                            0         0   \n",
       "1                      0                            0         0   \n",
       "2                      0                            0         0   \n",
       "3                      0                            0         0   \n",
       "4                      0                            0         0   \n",
       "\n",
       "   is_manufacturing_mechanical  is_marketing_advertising_pr  \\\n",
       "0                            0                            0   \n",
       "1                            0                            0   \n",
       "2                            0                            0   \n",
       "3                            0                            0   \n",
       "4                            0                            0   \n",
       "\n",
       "   is_pharmaceutical_bio_tech  is_real_estate  is_restaurant_food_service  \\\n",
       "0                           0               0                           0   \n",
       "1                           0               0                           0   \n",
       "2                           0               0                           0   \n",
       "3                           0               0                           0   \n",
       "4                           0               0                           0   \n",
       "\n",
       "   is_retail  is_transportation_logistics  \n",
       "0          0                            1  \n",
       "1          0                            0  \n",
       "2          1                            0  \n",
       "3          0                            0  \n",
       "4          0                            0  \n",
       "\n",
       "[5 rows x 22 columns]"
      ]
     },
     "execution_count": 21,
     "metadata": {},
     "output_type": "execute_result"
    }
   ],
   "source": [
    "#### Making it into a dataframe ####\n",
    "\n",
    "# This will end up having 17 more columns, so it will start with only a few columns from the original df\n",
    "category_df = remote_post_df[[\"uniq_id\", \"is_remote\", \"post_date\", \"category\", \"inferred_state\"]]\n",
    "\n",
    "# Each category will have a column\n",
    "# Within each column, the row will have a 1 if the category is the one of interest and 0 otherwise\n",
    "for i in range(0, len(categories)):\n",
    "    category_df[categories[i]] = category_df.apply(lambda x: 1 if x.category == categories_orig[i] else 0, axis = 1)\n",
    "    \n",
    "category_df.head()"
   ]
  },
  {
   "cell_type": "code",
   "execution_count": 22,
   "metadata": {},
   "outputs": [],
   "source": [
    "#category_df.to_pickle(\"./data/remote_with_categories.pkl\")"
   ]
  },
  {
   "cell_type": "markdown",
   "metadata": {},
   "source": [
    "# Salary"
   ]
  },
  {
   "cell_type": "markdown",
   "metadata": {},
   "source": [
    "Similar to *state*, there are multiple *salary* variables."
   ]
  },
  {
   "cell_type": "code",
   "execution_count": 23,
   "metadata": {},
   "outputs": [
    {
     "data": {
      "text/html": [
       "<div>\n",
       "<style scoped>\n",
       "    .dataframe tbody tr th:only-of-type {\n",
       "        vertical-align: middle;\n",
       "    }\n",
       "\n",
       "    .dataframe tbody tr th {\n",
       "        vertical-align: top;\n",
       "    }\n",
       "\n",
       "    .dataframe thead th {\n",
       "        text-align: right;\n",
       "    }\n",
       "</style>\n",
       "<table border=\"1\" class=\"dataframe\">\n",
       "  <thead>\n",
       "    <tr style=\"text-align: right;\">\n",
       "      <th></th>\n",
       "      <th>salary_offered</th>\n",
       "      <th>inferred_salary_currency</th>\n",
       "      <th>inferred_salary_from</th>\n",
       "      <th>inferred_salary_to</th>\n",
       "      <th>inferred_salary_time_unit</th>\n",
       "    </tr>\n",
       "  </thead>\n",
       "  <tbody>\n",
       "    <tr>\n",
       "      <th>0</th>\n",
       "      <td>NaN</td>\n",
       "      <td>USD</td>\n",
       "      <td>NaN</td>\n",
       "      <td>NaN</td>\n",
       "      <td>NaN</td>\n",
       "    </tr>\n",
       "    <tr>\n",
       "      <th>1</th>\n",
       "      <td>NaN</td>\n",
       "      <td>USD</td>\n",
       "      <td>NaN</td>\n",
       "      <td>NaN</td>\n",
       "      <td>NaN</td>\n",
       "    </tr>\n",
       "    <tr>\n",
       "      <th>2</th>\n",
       "      <td>NaN</td>\n",
       "      <td>USD</td>\n",
       "      <td>NaN</td>\n",
       "      <td>NaN</td>\n",
       "      <td>NaN</td>\n",
       "    </tr>\n",
       "    <tr>\n",
       "      <th>3</th>\n",
       "      <td>Pay: $16.00 - $18.00 per hour</td>\n",
       "      <td>USD</td>\n",
       "      <td>16.0</td>\n",
       "      <td>18.0</td>\n",
       "      <td>hourly</td>\n",
       "    </tr>\n",
       "    <tr>\n",
       "      <th>4</th>\n",
       "      <td>NaN</td>\n",
       "      <td>USD</td>\n",
       "      <td>NaN</td>\n",
       "      <td>NaN</td>\n",
       "      <td>NaN</td>\n",
       "    </tr>\n",
       "    <tr>\n",
       "      <th>5</th>\n",
       "      <td>NaN</td>\n",
       "      <td>USD</td>\n",
       "      <td>NaN</td>\n",
       "      <td>NaN</td>\n",
       "      <td>NaN</td>\n",
       "    </tr>\n",
       "  </tbody>\n",
       "</table>\n",
       "</div>"
      ],
      "text/plain": [
       "                  salary_offered inferred_salary_currency  \\\n",
       "0                            NaN                      USD   \n",
       "1                            NaN                      USD   \n",
       "2                            NaN                      USD   \n",
       "3  Pay: $16.00 - $18.00 per hour                      USD   \n",
       "4                            NaN                      USD   \n",
       "5                            NaN                      USD   \n",
       "\n",
       "   inferred_salary_from  inferred_salary_to inferred_salary_time_unit  \n",
       "0                   NaN                 NaN                       NaN  \n",
       "1                   NaN                 NaN                       NaN  \n",
       "2                   NaN                 NaN                       NaN  \n",
       "3                  16.0                18.0                    hourly  \n",
       "4                   NaN                 NaN                       NaN  \n",
       "5                   NaN                 NaN                       NaN  "
      ]
     },
     "execution_count": 23,
     "metadata": {},
     "output_type": "execute_result"
    }
   ],
   "source": [
    "remote_post_df.loc[0:5, [\"salary_offered\", 'inferred_salary_currency', 'inferred_salary_from', 'inferred_salary_to', 'inferred_salary_time_unit']]"
   ]
  },
  {
   "cell_type": "markdown",
   "metadata": {},
   "source": [
    "The best salary measure is the mean of *inferred_salary_from* and *inferred_salary_to*, because they are formatted."
   ]
  },
  {
   "cell_type": "code",
   "execution_count": 24,
   "metadata": {},
   "outputs": [
    {
     "name": "stdout",
     "output_type": "stream",
     "text": [
      "(30234, 58)\n"
     ]
    }
   ],
   "source": [
    "# Subset that has a salary range\n",
    "print(remote_post_df[-remote_post_df['inferred_salary_from'].isna()].shape)"
   ]
  },
  {
   "cell_type": "markdown",
   "metadata": {},
   "source": [
    "Unfortunately, only 30,234 job entries have a salary. This is a really small sample, so it will be its own dataframe."
   ]
  },
  {
   "cell_type": "code",
   "execution_count": 25,
   "metadata": {},
   "outputs": [],
   "source": [
    "# Subset if there is a salary, reset index\n",
    "has_salary_df = remote_post_df.loc[-remote_post_df['inferred_salary_from'].isna(), [\"uniq_id\", \"is_remote\", \"post_date\", \"category\", \"inferred_state\", \"inferred_salary_from\", \"inferred_salary_to\", \"inferred_salary_time_unit\"]]\n",
    "has_salary_df = has_salary_df.reset_index(drop = True)"
   ]
  },
  {
   "cell_type": "markdown",
   "metadata": {},
   "source": [
    "### Standardizing Salary Unit"
   ]
  },
  {
   "cell_type": "markdown",
   "metadata": {},
   "source": [
    "The salaries come in different units (i.e. hourly vs. yearly), so they will be standardized to per hour."
   ]
  },
  {
   "cell_type": "code",
   "execution_count": 26,
   "metadata": {},
   "outputs": [],
   "source": [
    "def salary_format(low_range, high_range, unit):\n",
    "    \n",
    "    # Accounting for NA values in the high and low range values\n",
    "    if np.isnan(high_range):\n",
    "        high_range = low_range\n",
    "    if np.isnan(low_range):\n",
    "        low_range = high_range\n",
    "    \n",
    "    # Accounting for NA values in the unit (estimated)\n",
    "    if type(unit) != str:\n",
    "        # Likely hourly, $50/hour is pretty high I think but too low for weekly\n",
    "        if low_range < 50:\n",
    "            unit = \"hourly\"\n",
    "        # Probably too high for monthly, low range for yearly\n",
    "        elif low_range > 20000:\n",
    "            unit = \"yearly\"\n",
    "    \n",
    "    # Standardizing pay unit to hourly\n",
    "    if unit == \"yearly\":\n",
    "        low_range = low_range / 2080\n",
    "        high_range = high_range / 2080\n",
    "    elif unit == \"weekly\":\n",
    "        low_range = low_range / 40\n",
    "        high_range = high_range / 40\n",
    "    elif unit == \"monthly\":\n",
    "        # Value based on average work days/month\n",
    "        low_range = low_range / 163.256\n",
    "        high_range = high_range / 163.256\n",
    "    elif unit == \"daily\":\n",
    "        low_range = low_range / 8\n",
    "        high_range = high_range / 8\n",
    "    \n",
    "    # Find the middle of the range and return\n",
    "    average = (high_range + low_range) / 2\n",
    "    return average"
   ]
  },
  {
   "cell_type": "code",
   "execution_count": 27,
   "metadata": {},
   "outputs": [
    {
     "data": {
      "text/html": [
       "<div>\n",
       "<style scoped>\n",
       "    .dataframe tbody tr th:only-of-type {\n",
       "        vertical-align: middle;\n",
       "    }\n",
       "\n",
       "    .dataframe tbody tr th {\n",
       "        vertical-align: top;\n",
       "    }\n",
       "\n",
       "    .dataframe thead th {\n",
       "        text-align: right;\n",
       "    }\n",
       "</style>\n",
       "<table border=\"1\" class=\"dataframe\">\n",
       "  <thead>\n",
       "    <tr style=\"text-align: right;\">\n",
       "      <th></th>\n",
       "      <th>uniq_id</th>\n",
       "      <th>is_remote</th>\n",
       "      <th>post_date</th>\n",
       "      <th>category</th>\n",
       "      <th>inferred_state</th>\n",
       "      <th>inferred_salary_time_unit</th>\n",
       "      <th>mean_salary_range</th>\n",
       "    </tr>\n",
       "  </thead>\n",
       "  <tbody>\n",
       "    <tr>\n",
       "      <th>0</th>\n",
       "      <td>89141ac20e755763933dffa93ef6abc5</td>\n",
       "      <td>false</td>\n",
       "      <td>2020-11-30</td>\n",
       "      <td>Administrative</td>\n",
       "      <td>North carolina</td>\n",
       "      <td>hourly</td>\n",
       "      <td>17.0</td>\n",
       "    </tr>\n",
       "    <tr>\n",
       "      <th>1</th>\n",
       "      <td>c212c1daf14d0308e3d91d9511f3fa32</td>\n",
       "      <td>false</td>\n",
       "      <td>2020-10-08</td>\n",
       "      <td>Healthcare</td>\n",
       "      <td>New york</td>\n",
       "      <td>hourly</td>\n",
       "      <td>20.0</td>\n",
       "    </tr>\n",
       "    <tr>\n",
       "      <th>2</th>\n",
       "      <td>4e3c1d579b134e4619cfd7a0dd456add</td>\n",
       "      <td>false</td>\n",
       "      <td>2020-10-30</td>\n",
       "      <td>Education training</td>\n",
       "      <td>Wisconsin</td>\n",
       "      <td>hourly</td>\n",
       "      <td>13.5</td>\n",
       "    </tr>\n",
       "    <tr>\n",
       "      <th>3</th>\n",
       "      <td>0e58cf674b73a60057a21ba3caca370e</td>\n",
       "      <td>false</td>\n",
       "      <td>2020-12-11</td>\n",
       "      <td>Accounting finance</td>\n",
       "      <td></td>\n",
       "      <td>hourly</td>\n",
       "      <td>32.5</td>\n",
       "    </tr>\n",
       "    <tr>\n",
       "      <th>4</th>\n",
       "      <td>03125df2b73081dd1938842018f64af7</td>\n",
       "      <td>false</td>\n",
       "      <td>2020-10-25</td>\n",
       "      <td>Transportation logistics</td>\n",
       "      <td>Michigan</td>\n",
       "      <td>hourly</td>\n",
       "      <td>15.0</td>\n",
       "    </tr>\n",
       "  </tbody>\n",
       "</table>\n",
       "</div>"
      ],
      "text/plain": [
       "                            uniq_id is_remote   post_date  \\\n",
       "0  89141ac20e755763933dffa93ef6abc5     false  2020-11-30   \n",
       "1  c212c1daf14d0308e3d91d9511f3fa32     false  2020-10-08   \n",
       "2  4e3c1d579b134e4619cfd7a0dd456add     false  2020-10-30   \n",
       "3  0e58cf674b73a60057a21ba3caca370e     false  2020-12-11   \n",
       "4  03125df2b73081dd1938842018f64af7     false  2020-10-25   \n",
       "\n",
       "                   category  inferred_state inferred_salary_time_unit  \\\n",
       "0            Administrative  North carolina                    hourly   \n",
       "1                Healthcare        New york                    hourly   \n",
       "2        Education training       Wisconsin                    hourly   \n",
       "3        Accounting finance                                    hourly   \n",
       "4  Transportation logistics        Michigan                    hourly   \n",
       "\n",
       "   mean_salary_range  \n",
       "0               17.0  \n",
       "1               20.0  \n",
       "2               13.5  \n",
       "3               32.5  \n",
       "4               15.0  "
      ]
     },
     "execution_count": 27,
     "metadata": {},
     "output_type": "execute_result"
    }
   ],
   "source": [
    "# Standardize and average salary\n",
    "has_salary_df['mean_salary_range'] = has_salary_df.apply(lambda x: salary_format(x.inferred_salary_from, x.inferred_salary_to, x.inferred_salary_time_unit) , axis = 1)\n",
    "\n",
    "# Drop the low and high range variables\n",
    "has_salary_df = has_salary_df.drop(\"inferred_salary_from\", axis = 1).drop(\"inferred_salary_to\", axis = 1)\n",
    "\n",
    "has_salary_df.head()"
   ]
  },
  {
   "cell_type": "code",
   "execution_count": 28,
   "metadata": {},
   "outputs": [],
   "source": [
    "has_salary_df.to_pickle(\"./data/has_salary_df.pkl\")"
   ]
  },
  {
   "cell_type": "markdown",
   "metadata": {},
   "source": [
    "# Making a proportional dataframe"
   ]
  },
  {
   "cell_type": "markdown",
   "metadata": {},
   "source": [
    "The next step is converting the unit of analysis from the entry-level to the day-level. This dataframe will be used for the model predicting the proportion of entries that are remote for each day."
   ]
  },
  {
   "cell_type": "code",
   "execution_count": 29,
   "metadata": {},
   "outputs": [
    {
     "name": "stdout",
     "output_type": "stream",
     "text": [
      "First Day: 2020-09-30\n",
      "Last Day: 2021-09-30\n"
     ]
    }
   ],
   "source": [
    "# Get a list of all dates in the dataset in order\n",
    "all_dates = remote_post_df['post_date'].unique()\n",
    "all_dates.sort()\n",
    "\n",
    "print(\"First Day: \" + str(all_dates[0]))\n",
    "print(\"Last Day: \" + str(all_dates[-1]))"
   ]
  },
  {
   "cell_type": "code",
   "execution_count": 30,
   "metadata": {},
   "outputs": [],
   "source": [
    "proportion = []\n",
    "is_remote = []\n",
    "not_remote = []\n",
    "\n",
    "# Will iterate through all of the days\n",
    "for date in all_dates:\n",
    "    \n",
    "    # Takes only the rows in which the post_date is the current date\n",
    "    subset = remote_post_df[remote_post_df['post_date'] == date]\n",
    "    \n",
    "    # Finds the number if remote and non-remote jobs on that day\n",
    "    remote = subset['is_remote'].value_counts()\n",
    "    \n",
    "    false = 0\n",
    "    true = 0\n",
    "    \n",
    "    # If there are \"false\" (non-remote) jobs, set false to the number of non-remote jobs\n",
    "    if 'false' in remote.index:\n",
    "        false = remote['false']\n",
    "    \n",
    "    # If there are \"true\" (remote) jobs, true = the number of remote jobs\n",
    "    if 'true' in remote.index:\n",
    "        true = remote['true']\n",
    "    \n",
    "    # Store the number of remote and non-remote jobs\n",
    "    is_remote.append(true)\n",
    "    not_remote.append(false)\n",
    "    \n",
    "    # For this one day, the proportion is the number of remote jobs / total jobs\n",
    "    proportion.append(true / (true + false))"
   ]
  },
  {
   "cell_type": "code",
   "execution_count": 31,
   "metadata": {},
   "outputs": [
    {
     "data": {
      "text/html": [
       "<div>\n",
       "<style scoped>\n",
       "    .dataframe tbody tr th:only-of-type {\n",
       "        vertical-align: middle;\n",
       "    }\n",
       "\n",
       "    .dataframe tbody tr th {\n",
       "        vertical-align: top;\n",
       "    }\n",
       "\n",
       "    .dataframe thead th {\n",
       "        text-align: right;\n",
       "    }\n",
       "</style>\n",
       "<table border=\"1\" class=\"dataframe\">\n",
       "  <thead>\n",
       "    <tr style=\"text-align: right;\">\n",
       "      <th></th>\n",
       "      <th>date</th>\n",
       "      <th>is_remote</th>\n",
       "      <th>not_remote</th>\n",
       "      <th>prop_remote</th>\n",
       "    </tr>\n",
       "  </thead>\n",
       "  <tbody>\n",
       "    <tr>\n",
       "      <th>0</th>\n",
       "      <td>2020-09-30</td>\n",
       "      <td>0</td>\n",
       "      <td>4</td>\n",
       "      <td>0.000000</td>\n",
       "    </tr>\n",
       "    <tr>\n",
       "      <th>1</th>\n",
       "      <td>2020-10-01</td>\n",
       "      <td>19</td>\n",
       "      <td>427</td>\n",
       "      <td>0.042601</td>\n",
       "    </tr>\n",
       "    <tr>\n",
       "      <th>2</th>\n",
       "      <td>2020-10-02</td>\n",
       "      <td>23</td>\n",
       "      <td>503</td>\n",
       "      <td>0.043726</td>\n",
       "    </tr>\n",
       "    <tr>\n",
       "      <th>3</th>\n",
       "      <td>2020-10-03</td>\n",
       "      <td>29</td>\n",
       "      <td>463</td>\n",
       "      <td>0.058943</td>\n",
       "    </tr>\n",
       "    <tr>\n",
       "      <th>4</th>\n",
       "      <td>2020-10-04</td>\n",
       "      <td>3</td>\n",
       "      <td>157</td>\n",
       "      <td>0.018750</td>\n",
       "    </tr>\n",
       "  </tbody>\n",
       "</table>\n",
       "</div>"
      ],
      "text/plain": [
       "         date  is_remote  not_remote  prop_remote\n",
       "0  2020-09-30          0           4     0.000000\n",
       "1  2020-10-01         19         427     0.042601\n",
       "2  2020-10-02         23         503     0.043726\n",
       "3  2020-10-03         29         463     0.058943\n",
       "4  2020-10-04          3         157     0.018750"
      ]
     },
     "execution_count": 31,
     "metadata": {},
     "output_type": "execute_result"
    }
   ],
   "source": [
    "by_day = pd.DataFrame(list(zip(all_dates, is_remote, not_remote, proportion)), columns = [\"date\", \"is_remote\", \"not_remote\", \"prop_remote\"])\n",
    "by_day.head()"
   ]
  },
  {
   "cell_type": "code",
   "execution_count": 32,
   "metadata": {},
   "outputs": [],
   "source": [
    "by_day.to_pickle(\"./data/prop_by_day.pkl\")"
   ]
  }
 ],
 "metadata": {
  "interpreter": {
   "hash": "c32bf5ee81753c171d8cf8ca06c79912c153b687dbe33b720075c21023c6f18e"
  },
  "kernelspec": {
   "display_name": "Python 3",
   "language": "python",
   "name": "python3"
  },
  "language_info": {
   "codemirror_mode": {
    "name": "ipython",
    "version": 3
   },
   "file_extension": ".py",
   "mimetype": "text/x-python",
   "name": "python",
   "nbconvert_exporter": "python",
   "pygments_lexer": "ipython3",
   "version": "3.7.6"
  }
 },
 "nbformat": 4,
 "nbformat_minor": 4
}
